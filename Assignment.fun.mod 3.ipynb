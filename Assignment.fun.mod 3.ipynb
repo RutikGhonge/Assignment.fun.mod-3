{
 "cells": [
  {
   "cell_type": "markdown",
   "id": "dd04f1c1",
   "metadata": {},
   "source": [
    "Write a Python function that accepts a string and calculate the number of upper case letters and lower case letters.\n",
    "\n",
    "﻿Sample String : 'The quick Brow Fox'"
   ]
  },
  {
   "cell_type": "code",
   "execution_count": 23,
   "id": "f23b166a",
   "metadata": {},
   "outputs": [
    {
     "name": "stdout",
     "output_type": "stream",
     "text": [
      "No. of Upper case characters : 3\n",
      "No. of Lower case Characters : 12\n"
     ]
    }
   ],
   "source": [
    "s='The quick Brow Fox'\n",
    "s.split()\n",
    "UC=0\n",
    "LC=0\n",
    "for i in s:\n",
    "    if i.isupper():\n",
    "        UC+=1\n",
    "    elif i.islower():\n",
    "        LC+=1\n",
    "        \n",
    "print(\"No. of Upper case characters :\",UC)\n",
    "print(\"No. of Lower case Characters :\",LC)\n"
   ]
  }
 ],
 "metadata": {
  "kernelspec": {
   "display_name": "Python 3 (ipykernel)",
   "language": "python",
   "name": "python3"
  },
  "language_info": {
   "codemirror_mode": {
    "name": "ipython",
    "version": 3
   },
   "file_extension": ".py",
   "mimetype": "text/x-python",
   "name": "python",
   "nbconvert_exporter": "python",
   "pygments_lexer": "ipython3",
   "version": "3.10.0"
  }
 },
 "nbformat": 4,
 "nbformat_minor": 5
}
